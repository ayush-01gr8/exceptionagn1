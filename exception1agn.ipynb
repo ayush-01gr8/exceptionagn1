{
 "cells": [
  {
   "cell_type": "code",
   "execution_count": null,
   "id": "92368472-b70b-4f76-aec3-804987777587",
   "metadata": {},
   "outputs": [],
   "source": [
    "Q1) What is an exception in python ? write difference between exception and syntax errors."
   ]
  },
  {
   "cell_type": "code",
   "execution_count": null,
   "id": "52915d21-cda6-4515-9178-43cd18a292ef",
   "metadata": {},
   "outputs": [],
   "source": [
    "An exception in Python is an event that occurs during the execution of a program that disrupts the normal flow of instructions. In other words, \n",
    "it's an error that occurs while your program is running. \n",
    "Python provides a way to handle these exceptions so that your program can gracefully handle errors and continue running rather than crashing."
   ]
  },
  {
   "cell_type": "code",
   "execution_count": null,
   "id": "b0da2604-0374-4309-b1cb-c8681a59f6a1",
   "metadata": {},
   "outputs": [],
   "source": [
    "Exceptions occur during the execution of a program when something goes wrong, such as trying to open a non-existent file or dividing by zero. \n",
    "They are detected while the program is running.\n",
    "\n",
    "Syntax Errors, on the other hand, occur during the parsing of the program, before it is executed. \n",
    "They are typically caused by incorrect syntax in your code, such as missing colons, parentheses, or incorrect indentation."
   ]
  },
  {
   "cell_type": "code",
   "execution_count": null,
   "id": "49b65336-65a7-40b3-aaf9-22430bef7513",
   "metadata": {},
   "outputs": [],
   "source": [
    "Q2. What happens when exception is not handeled? Explain with an example."
   ]
  },
  {
   "cell_type": "code",
   "execution_count": null,
   "id": "075a0cda-19ca-4c6f-8163-fd977328674a",
   "metadata": {},
   "outputs": [],
   "source": [
    "When an exception is not handled in a Python program, it leads to an abnormal termination of the program, resulting in an error \n",
    "message being displayed to the user. This error message provides information about the type of exception that occurred, \n",
    "along with a traceback showing the sequence of function calls and code lines that led to the exception."
   ]
  },
  {
   "cell_type": "code",
   "execution_count": 1,
   "id": "512dfd02-8c12-4918-ac9f-0c0be285f6b9",
   "metadata": {},
   "outputs": [
    {
     "ename": "ZeroDivisionError",
     "evalue": "division by zero",
     "output_type": "error",
     "traceback": [
      "\u001b[0;31m---------------------------------------------------------------------------\u001b[0m",
      "\u001b[0;31mZeroDivisionError\u001b[0m                         Traceback (most recent call last)",
      "Cell \u001b[0;32mIn[1], line 7\u001b[0m\n\u001b[1;32m      4\u001b[0m num1 \u001b[38;5;241m=\u001b[39m \u001b[38;5;241m10\u001b[39m\n\u001b[1;32m      5\u001b[0m num2 \u001b[38;5;241m=\u001b[39m \u001b[38;5;241m0\u001b[39m\n\u001b[0;32m----> 7\u001b[0m result \u001b[38;5;241m=\u001b[39m \u001b[43mdivide\u001b[49m\u001b[43m(\u001b[49m\u001b[43mnum1\u001b[49m\u001b[43m,\u001b[49m\u001b[43m \u001b[49m\u001b[43mnum2\u001b[49m\u001b[43m)\u001b[49m\n\u001b[1;32m      9\u001b[0m \u001b[38;5;28mprint\u001b[39m(\u001b[38;5;124m\"\u001b[39m\u001b[38;5;124mResult:\u001b[39m\u001b[38;5;124m\"\u001b[39m, result)\n",
      "Cell \u001b[0;32mIn[1], line 2\u001b[0m, in \u001b[0;36mdivide\u001b[0;34m(a, b)\u001b[0m\n\u001b[1;32m      1\u001b[0m \u001b[38;5;28;01mdef\u001b[39;00m \u001b[38;5;21mdivide\u001b[39m(a, b):\n\u001b[0;32m----> 2\u001b[0m     \u001b[38;5;28;01mreturn\u001b[39;00m \u001b[43ma\u001b[49m\u001b[43m \u001b[49m\u001b[38;5;241;43m/\u001b[39;49m\u001b[43m \u001b[49m\u001b[43mb\u001b[49m\n",
      "\u001b[0;31mZeroDivisionError\u001b[0m: division by zero"
     ]
    }
   ],
   "source": [
    "##EXAMPLE \n",
    "\n",
    "def divide(a, b):\n",
    "    return a / b\n",
    "\n",
    "num1 = 10\n",
    "num2 = 0\n",
    "\n",
    "result = divide(num1, num2)\n",
    "\n",
    "print(\"Result:\", result)\n"
   ]
  },
  {
   "cell_type": "code",
   "execution_count": null,
   "id": "04a7b2aa-2d3c-4d99-9365-8cd24b684cd9",
   "metadata": {},
   "outputs": [],
   "source": [
    "Q3. Which python stament are used to catch and handle the exceptions ? Explain with exaples."
   ]
  },
  {
   "cell_type": "code",
   "execution_count": null,
   "id": "688c7466-efa7-4fb0-8e74-40d35bbaa1fa",
   "metadata": {},
   "outputs": [],
   "source": [
    "Python uses try and except statements to handle exceptions. These statements allow you to write code that attempts to execute a block of statements,\n",
    "and if an exception occurs within that block, you can specify how to handle the exception without abruptly terminating the program."
   ]
  },
  {
   "cell_type": "code",
   "execution_count": 10,
   "id": "3ce45020-7e5a-45bd-af30-7fe73fb75236",
   "metadata": {},
   "outputs": [
    {
     "name": "stdout",
     "output_type": "stream",
     "text": [
      "error: Division by zero\n"
     ]
    }
   ],
   "source": [
    "def divide(a,b):\n",
    "    try :\n",
    "        result = a/b\n",
    "    except ZeroDivisionError:\n",
    "            print(\"error: Division by zero\")\n",
    "            result= None\n",
    "            return result \n",
    "        \n",
    "num1=12\n",
    "num2=0\n",
    "result = divide(num1, num2)\n",
    "if result is not None: \n",
    "    print(\", Result: \", result)"
   ]
  },
  {
   "cell_type": "code",
   "execution_count": null,
   "id": "ae4df36e-eb39-4d6f-a0ce-03664e0aace7",
   "metadata": {},
   "outputs": [],
   "source": [
    "Q4. Explain with example:\n",
    "    1. try and else\n",
    "    2. finally\n",
    "    3. raise"
   ]
  },
  {
   "cell_type": "code",
   "execution_count": 13,
   "id": "33f9e220-0f1e-4100-870f-85d39fa49c25",
   "metadata": {},
   "outputs": [
    {
     "name": "stdin",
     "output_type": "stream",
     "text": [
      "Enter a number:  -9.899\n"
     ]
    },
    {
     "name": "stdout",
     "output_type": "stream",
     "text": [
      "Invalid input. Please enter a valid number.\n"
     ]
    }
   ],
   "source": [
    "try:\n",
    "    num = int(input(\"Enter a number: \"))\n",
    "except ValueError:\n",
    "    print(\"Invalid input. Please enter a valid number.\")\n",
    "else:\n",
    "    print(\"You entered:\", num)\n"
   ]
  },
  {
   "cell_type": "code",
   "execution_count": 14,
   "id": "55590232-1db0-4507-bea1-1d20c4a6d605",
   "metadata": {},
   "outputs": [
    {
     "name": "stdout",
     "output_type": "stream",
     "text": [
      "File not found.\n"
     ]
    },
    {
     "ename": "NameError",
     "evalue": "name 'file' is not defined",
     "output_type": "error",
     "traceback": [
      "\u001b[0;31m---------------------------------------------------------------------------\u001b[0m",
      "\u001b[0;31mNameError\u001b[0m                                 Traceback (most recent call last)",
      "Cell \u001b[0;32mIn[14], line 9\u001b[0m\n\u001b[1;32m      7\u001b[0m     \u001b[38;5;28mprint\u001b[39m(\u001b[38;5;124m\"\u001b[39m\u001b[38;5;124mFile content:\u001b[39m\u001b[38;5;124m\"\u001b[39m, content)\n\u001b[1;32m      8\u001b[0m \u001b[38;5;28;01mfinally\u001b[39;00m:\n\u001b[0;32m----> 9\u001b[0m     \u001b[43mfile\u001b[49m\u001b[38;5;241m.\u001b[39mclose()\n",
      "\u001b[0;31mNameError\u001b[0m: name 'file' is not defined"
     ]
    }
   ],
   "source": [
    "try:\n",
    "    file = open(\"example.txt\", \"r\")\n",
    "    content = file.read()\n",
    "except FileNotFoundError:\n",
    "    print(\"File not found.\")\n",
    "else:\n",
    "    print(\"File content:\", content)\n",
    "finally:\n",
    "    file.close()\n"
   ]
  },
  {
   "cell_type": "code",
   "execution_count": 15,
   "id": "a40ff388-50ce-4adc-90a7-3df1d41f408f",
   "metadata": {},
   "outputs": [
    {
     "name": "stdout",
     "output_type": "stream",
     "text": [
      "Error: Input must be a non-negative number\n"
     ]
    }
   ],
   "source": [
    "def calculate_square_root(num):\n",
    "    if num < 0:\n",
    "        raise ValueError(\"Input must be a non-negative number\")\n",
    "    return num ** 0.5\n",
    "\n",
    "try:\n",
    "    result = calculate_square_root(-1)\n",
    "except ValueError as e:\n",
    "    print(\"Error:\", e)\n",
    "else:\n",
    "    print(\"Square root:\", result)\n"
   ]
  },
  {
   "cell_type": "code",
   "execution_count": null,
   "id": "1783eed7-b9c3-4d7e-b024-b89b3d05c2d5",
   "metadata": {},
   "outputs": [],
   "source": [
    "Q5. What are custom exception in python ? Why do we need custom exceptions? Explain with an example. "
   ]
  },
  {
   "cell_type": "code",
   "execution_count": null,
   "id": "4b5e58fc-7490-4430-9f86-e26af7e92f3f",
   "metadata": {},
   "outputs": [],
   "source": [
    "Custom exceptions in Python are user-defined exceptions that you create to represent specific error conditions in your program.\n",
    "Creating custom exceptions allows you to provide more informative error messages and tailor your error handling to the specific\n",
    "needs of your application."
   ]
  },
  {
   "cell_type": "code",
   "execution_count": null,
   "id": "b6d01f38-61c7-49b4-abc4-d9420ac59efc",
   "metadata": {},
   "outputs": [],
   "source": [
    "reason for using custom exceptions:\n",
    "Clarity and Readability\n",
    "Modularity\n",
    "Specific Error Handling"
   ]
  },
  {
   "cell_type": "code",
   "execution_count": 16,
   "id": "6560ec81-a92e-4907-b459-507eee3370c8",
   "metadata": {},
   "outputs": [
    {
     "name": "stdout",
     "output_type": "stream",
     "text": [
      "Error: Insufficient funds. Current balance: 1000, Required: 1500\n"
     ]
    }
   ],
   "source": [
    "class InsufficientFundsError(Exception):\n",
    "    def __init__(self, balance, amount):\n",
    "        super().__init__(f\"Insufficient funds. Current balance: {balance}, Required: {amount}\")\n",
    "\n",
    "def withdraw(balance, amount):\n",
    "    if amount > balance:\n",
    "        raise InsufficientFundsError(balance, amount)\n",
    "    return balance - amount\n",
    "\n",
    "try:\n",
    "    account_balance = 1000\n",
    "    withdrawal_amount = 1500\n",
    "    new_balance = withdraw(account_balance, withdrawal_amount)\n",
    "    print(f\"Withdrawal successful. New balance: {new_balance}\")\n",
    "except InsufficientFundsError as e:\n",
    "    print(\"Error:\", e)\n"
   ]
  },
  {
   "cell_type": "code",
   "execution_count": null,
   "id": "41633638-9e53-48b6-b873-307373d9068d",
   "metadata": {},
   "outputs": [],
   "source": [
    "Q6. Create a custom exception class. Use this class to handle an exception."
   ]
  },
  {
   "cell_type": "code",
   "execution_count": 19,
   "id": "8c29b3af-4cce-4db7-b202-69542f8bd4ba",
   "metadata": {},
   "outputs": [
    {
     "name": "stdout",
     "output_type": "stream",
     "text": [
      "Error: Invalid data type. Expected an integer.\n"
     ]
    }
   ],
   "source": [
    "class MyCustomError(Exception):\n",
    "    def __init__(self, message):\n",
    "        super().__init__(message)\n",
    "\n",
    "def process_data(data):\n",
    "    if not isinstance(data, int):\n",
    "        raise MyCustomError(\"Invalid data type. Expected an integer.\")\n",
    "    return data * 2\n",
    "\n",
    "try:\n",
    "    value = \"hello\"\n",
    "    result = process_data(value)\n",
    "    print(\"Result:\", result)\n",
    "except MyCustomError as e:\n",
    "    print(\"Error:\", e)\n"
   ]
  },
  {
   "cell_type": "code",
   "execution_count": null,
   "id": "3791433b-d803-490b-a542-cfb78f8093be",
   "metadata": {},
   "outputs": [],
   "source": []
  }
 ],
 "metadata": {
  "kernelspec": {
   "display_name": "Python 3 (ipykernel)",
   "language": "python",
   "name": "python3"
  },
  "language_info": {
   "codemirror_mode": {
    "name": "ipython",
    "version": 3
   },
   "file_extension": ".py",
   "mimetype": "text/x-python",
   "name": "python",
   "nbconvert_exporter": "python",
   "pygments_lexer": "ipython3",
   "version": "3.10.8"
  }
 },
 "nbformat": 4,
 "nbformat_minor": 5
}
